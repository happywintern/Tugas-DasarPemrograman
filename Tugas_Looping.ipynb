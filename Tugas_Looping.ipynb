{
  "nbformat": 4,
  "nbformat_minor": 0,
  "metadata": {
    "colab": {
      "provenance": [],
      "authorship_tag": "ABX9TyP5kXPPVO2Rjlx7M1rYFXkm",
      "include_colab_link": true
    },
    "kernelspec": {
      "name": "python3",
      "display_name": "Python 3"
    },
    "language_info": {
      "name": "python"
    }
  },
  "cells": [
    {
      "cell_type": "markdown",
      "metadata": {
        "id": "view-in-github",
        "colab_type": "text"
      },
      "source": [
        "<a href=\"https://colab.research.google.com/github/happywintern/Tugas-DasarPemrograman/blob/main/Tugas_Looping.ipynb\" target=\"_parent\"><img src=\"https://colab.research.google.com/assets/colab-badge.svg\" alt=\"Open In Colab\"/></a>"
      ]
    },
    {
      "cell_type": "markdown",
      "source": [
        "Nama: Mutiara Rachma Aitika Andewa\n"
      ],
      "metadata": {
        "id": "51gHtgH0BEMD"
      }
    },
    {
      "cell_type": "markdown",
      "source": [
        "NIM: J0403231159"
      ],
      "metadata": {
        "id": "iIKJXmVyHlwX"
      }
    },
    {
      "cell_type": "markdown",
      "source": [
        "Email: mutiaraaitika@gmail.com"
      ],
      "metadata": {
        "id": "ud4yudqSHr9r"
      }
    },
    {
      "cell_type": "markdown",
      "source": [
        "Iteration Variable"
      ],
      "metadata": {
        "id": "MrfSenLuBZ_Q"
      }
    },
    {
      "cell_type": "code",
      "execution_count": null,
      "metadata": {
        "id": "umIsNvqzBBV2"
      },
      "outputs": [],
      "source": [
        "favorites = ['Churros', 'Tiramisú', 'Pudding']\n",
        "\n",
        "count = 0\t\t# count is iteration variable\n",
        "\n",
        "while count < len(favorites):\n",
        "    print('One of my favorite desserts is', favorites[count]);\n",
        "    count += 1\n"
      ]
    },
    {
      "cell_type": "markdown",
      "source": [
        "Calculate Bacteria colony"
      ],
      "metadata": {
        "id": "Pf9hCZdgBfuU"
      }
    },
    {
      "cell_type": "code",
      "source": [
        "time = 0\n",
        "population = 1000 # 1000 bacteria to start with\n",
        "growth_rate = 0.21 # 21% growth per minute\n",
        "while population < 2000:\n",
        "population = population + growth_rate * population\n",
        "print(round(population))\n",
        "time = time + 1\n",
        "print(\"It took\", time, \"minutes for the bacteria to double.\")\n",
        "print(\"The final population was\", round(population), \"bacteria.\")\n"
      ],
      "metadata": {
        "id": "20dUk9NCBsGA"
      },
      "execution_count": null,
      "outputs": []
    },
    {
      "cell_type": "markdown",
      "source": [
        "Infinite loop"
      ],
      "metadata": {
        "id": "UbnsC9tLCIjf"
      }
    },
    {
      "cell_type": "code",
      "source": [
        "count = 0\t# Incorrectly initialized variable\n",
        "while count < 10:\n",
        "    print(\"This loop will never exit\")\n"
      ],
      "metadata": {
        "id": "x7aQA7fOCLCm"
      },
      "execution_count": null,
      "outputs": []
    },
    {
      "cell_type": "markdown",
      "source": [
        "Avoiding infinite loop by giving break"
      ],
      "metadata": {
        "id": "a6mV9o7uCWEW"
      }
    },
    {
      "cell_type": "code",
      "source": [
        "text = \"\"\n",
        "while text != \"q\":\t\t\t\t\t\t\t\t\t\t# not use while True\n",
        "  text = input(\"Please enter a chemical formula (or 'q' to exit): \")\t# user input\n",
        "  if text == \"q\":\n",
        "    print(\"…exiting program\")\n",
        "    Break\t\t\t\t\t\t\t\t\t\t\t# break\n",
        "  elif text == \"H2O\":\n",
        "    print(\"Water\")\n",
        "  elif text == \"NH3\":\n",
        "    print(\"Ammonia\")\n",
        "  elif text == \"CH4\":\n",
        "    print(\"Methane\")\n",
        "  else:\n",
        "    print(\"Unknown compound\")\n"
      ],
      "metadata": {
        "id": "hd3xy5mDCbxE"
      },
      "execution_count": null,
      "outputs": []
    },
    {
      "cell_type": "markdown",
      "source": [
        "For loop example"
      ],
      "metadata": {
        "id": "D0h9EDJQCi89"
      }
    },
    {
      "cell_type": "code",
      "source": [
        "favorites = ['Churros', 'Tiramisú', 'Pudding']\n",
        "\n",
        "for dessert in favorites:\n",
        "    print('One of my favorite desserts is', dessert)\n"
      ],
      "metadata": {
        "id": "lA7mOSb2Cig8"
      },
      "execution_count": null,
      "outputs": []
    },
    {
      "cell_type": "markdown",
      "source": [
        "Looping through a sets of items"
      ],
      "metadata": {
        "id": "PCOEb6mbC4hM"
      }
    },
    {
      "cell_type": "code",
      "source": [
        "days_of_week = [\"Monday\", \"Tuesday\", \"Wednesday\", \"Thursday\", \"Friday\", \"Saturday\", \"Sunday\"]\n",
        "\n",
        "for day in days_of_week:\n",
        "    print(day)\n"
      ],
      "metadata": {
        "id": "MwiP8OHMC7Hn"
      },
      "execution_count": null,
      "outputs": []
    },
    {
      "cell_type": "markdown",
      "source": [
        "Counting"
      ],
      "metadata": {
        "id": "385bauPiDCFy"
      }
    },
    {
      "cell_type": "code",
      "source": [
        "survey_responses = [\"positive\", \"neutral\", \"positive\", \"negative\", \"positive\", \"positive\", \"neutral\"]\n",
        "\n",
        "positive_count = 0\n",
        "\n",
        "for response in survey_responses:\n",
        "    if response == \"positive\":\n",
        "        positive_count += 1\n",
        "\n",
        "print(f\"Number of positive responses: {positive_count}\")\n"
      ],
      "metadata": {
        "id": "bO4NC906DDSg"
      },
      "execution_count": null,
      "outputs": []
    },
    {
      "cell_type": "markdown",
      "source": [
        "Summing"
      ],
      "metadata": {
        "id": "vmS3NjIcDFkc"
      }
    },
    {
      "cell_type": "code",
      "source": [
        "sales_transactions = [100.50, 75.25, 50.75, 30.00, 45.50]\n",
        "\n",
        "total_revenue = 0\n",
        "\n",
        "for transaction in sales_transactions:\n",
        "    total_revenue += transaction\n",
        "\n",
        "print(f\"Total revenue: ${total_revenue:.2f}\")\n"
      ],
      "metadata": {
        "id": "TDfrKtQyDI6V"
      },
      "execution_count": null,
      "outputs": []
    },
    {
      "cell_type": "markdown",
      "source": [
        "Filtering"
      ],
      "metadata": {
        "id": "wndOqTJ1DMVf"
      }
    },
    {
      "cell_type": "code",
      "source": [
        "sales_transactions = [100.50, 75.25, 50.75, 30.00, 45.50]\n",
        "\n",
        "total_revenue = 0\n",
        "\n",
        "for transaction in sales_transactions:\n",
        "    total_revenue += transaction\n",
        "\n",
        "print(f\"Total revenue: ${total_revenue:.2f}\")\n"
      ],
      "metadata": {
        "id": "cbicKTp_DNaQ"
      },
      "execution_count": null,
      "outputs": []
    },
    {
      "cell_type": "markdown",
      "source": [
        "Searching"
      ],
      "metadata": {
        "id": "AaV5NH7BDPvu"
      }
    },
    {
      "cell_type": "code",
      "source": [
        "sales_transactions = [100.50, 75.25, 50.75, 30.00, 45.50]\n",
        "\n",
        "total_revenue = 0\n",
        "\n",
        "for transaction in sales_transactions:\n",
        "    total_revenue += transaction\n",
        "\n",
        "print(f\"Total revenue: ${total_revenue:.2f}\")\n"
      ],
      "metadata": {
        "id": "jc-yY1JQDQtv"
      },
      "execution_count": null,
      "outputs": []
    },
    {
      "cell_type": "markdown",
      "source": [
        "Finding Maximum/Minimum"
      ],
      "metadata": {
        "id": "u-4La2_oDSuA"
      }
    },
    {
      "cell_type": "code",
      "source": [
        "sales_transactions = [100.50, 75.25, 50.75, 30.00, 45.50]\n",
        "\n",
        "total_revenue = 0\n",
        "\n",
        "for transaction in sales_transactions:\n",
        "    total_revenue += transaction\n",
        "\n",
        "print(f\"Total revenue: ${total_revenue:.2f}\")\n"
      ],
      "metadata": {
        "id": "VldsnKHXDVLX"
      },
      "execution_count": null,
      "outputs": []
    },
    {
      "cell_type": "markdown",
      "source": [
        "Looping over a range of numbers"
      ],
      "metadata": {
        "id": "eu4imA-vDbfe"
      }
    },
    {
      "cell_type": "code",
      "source": [
        "days_in_month = 30\n",
        "start_day = 1 #1st day of the month\n",
        "\n",
        "print(\"<< Dummy Calendar >>\")\n",
        "print(\"Mon Tue Wed Thu Fri Sat Sun\")\n",
        "for day in range(1, days_in_month + 1):\n",
        "    print(f\"{day:3d}\", end=\" \")\n",
        "\n",
        "    # new line for next week (Sunday)\n",
        "    if (day + start_day - 1) % 7 == 0:\n",
        "        print()\n"
      ],
      "metadata": {
        "id": "kErPVrEwDePD"
      },
      "execution_count": null,
      "outputs": []
    },
    {
      "cell_type": "markdown",
      "source": [
        "Nested Loops"
      ],
      "metadata": {
        "id": "oP1kgDg9Dkbb"
      }
    },
    {
      "cell_type": "code",
      "source": [
        "height = 5  # Height of the pyramid\n",
        "\n",
        "for i in range(1, height + 1):\n",
        "    # Print spaces before the stars\n",
        "    for j in range(height - i):\n",
        "        print(\" \", end=\"\")\n",
        "\n",
        "    # Print the stars\n",
        "    for k in range(2 * i - 1):\n",
        "        print(\"*\", end=\"\")\n",
        "\n",
        "    # Move to the next line after each row\n",
        "    print()\n"
      ],
      "metadata": {
        "id": "E7Uu-8k-DmnJ"
      },
      "execution_count": null,
      "outputs": []
    },
    {
      "cell_type": "markdown",
      "source": [
        "Controlling loops - else"
      ],
      "metadata": {
        "id": "Wcl9iHRcDsWt"
      }
    },
    {
      "cell_type": "code",
      "source": [
        "favorites = ['Churros', 'Tiramisú', 'Pudding']\n",
        "\n",
        "for dessert in favorites:\n",
        "    if dessert == 'Pudding':\n",
        "        print('Yes one of my favorite desserts is', dessert)\n",
        "else:\n",
        "    print('No sorry, that dessert is not on my list')\n",
        "\n"
      ],
      "metadata": {
        "id": "3Jmly1ikDvJj"
      },
      "execution_count": null,
      "outputs": []
    },
    {
      "cell_type": "markdown",
      "source": [
        "Controlling loops - break"
      ],
      "metadata": {
        "id": "0SvKJAFkDzlJ"
      }
    },
    {
      "cell_type": "code",
      "source": [
        "favorites = ['Churros', 'Tiramisú', 'Pudding']\n",
        "\n",
        "for dessert in favorites:\n",
        "    if dessert == 'Pudding':\n",
        "        print('Yes one of my favorite desserts is', dessert)\n",
        "else:\n",
        "    print('No sorry, that dessert is not on my list')\n",
        "\n"
      ],
      "metadata": {
        "id": "2YVqad1XD1_S"
      },
      "execution_count": null,
      "outputs": []
    },
    {
      "cell_type": "markdown",
      "source": [
        "Controlling loops - continue"
      ],
      "metadata": {
        "id": "eP8MK5bND5uG"
      }
    },
    {
      "cell_type": "code",
      "source": [
        "favorites = ['Churros', 'Tiramisú', 'Pudding']\n",
        "\n",
        "for dessert in favorites:\n",
        "    if dessert == 'Pudding':\n",
        "        print('Yes one of my favorite desserts is', dessert)\n",
        "else:\n",
        "    print('No sorry, that dessert is not on my list')\n",
        "\n"
      ],
      "metadata": {
        "id": "FBsh6_DoD7t_"
      },
      "execution_count": null,
      "outputs": []
    },
    {
      "cell_type": "markdown",
      "source": [
        "Controlling loops - pass"
      ],
      "metadata": {
        "id": "hsEiN-u1D-Ud"
      }
    },
    {
      "cell_type": "code",
      "source": [
        "valid_login = \"admin\"\n",
        "valid_password = \"password\"\n",
        "\n",
        "while True:\n",
        "    login = input(\"Enter your login: \")\n",
        "    password = input(\"Enter your password: \")\n",
        "\n",
        "    if login == valid_login and password == valid_password:\n",
        "        print(\"Authentication successful!\")\n",
        "        break\n",
        "    else:\n",
        "        print(\"Invalid credentials. Please try again.\")\n",
        "        pass  # Placeholder for later (e.g., account lockout)\n",
        "\n",
        "print(\"Welcome, admin!\")\n"
      ],
      "metadata": {
        "id": "OtoAaF5OEBjH"
      },
      "execution_count": null,
      "outputs": []
    }
  ]
}