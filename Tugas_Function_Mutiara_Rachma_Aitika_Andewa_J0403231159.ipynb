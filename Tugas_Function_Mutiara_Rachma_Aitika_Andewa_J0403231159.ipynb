{
  "nbformat": 4,
  "nbformat_minor": 0,
  "metadata": {
    "colab": {
      "provenance": [],
      "authorship_tag": "ABX9TyPjxsvAhBfEjRaiYzxNzM/9",
      "include_colab_link": true
    },
    "kernelspec": {
      "name": "python3",
      "display_name": "Python 3"
    },
    "language_info": {
      "name": "python"
    }
  },
  "cells": [
    {
      "cell_type": "markdown",
      "metadata": {
        "id": "view-in-github",
        "colab_type": "text"
      },
      "source": [
        "<a href=\"https://colab.research.google.com/github/happywintern/Tugas-DasarPemrograman/blob/main/Tugas_Function_Mutiara_Rachma_Aitika_Andewa_J0403231159.ipynb\" target=\"_parent\"><img src=\"https://colab.research.google.com/assets/colab-badge.svg\" alt=\"Open In Colab\"/></a>"
      ]
    },
    {
      "cell_type": "markdown",
      "source": [
        "Nama: Mutiara Rachma Aitika Andewa\n",
        "NIM: J0403231159\n",
        "email: mutiaraaitika@gmail.com\n",
        "\n",
        "Tugas Kalkulator"
      ],
      "metadata": {
        "id": "Z9ixP28DAPAf"
      }
    },
    {
      "cell_type": "code",
      "execution_count": null,
      "metadata": {
        "id": "c5GKQ4TplCwm"
      },
      "outputs": [],
      "source": [
        "# This function adds two numbers\n",
        "def add(x, y):\n",
        "    return x + y\n",
        "\n",
        "# This function subtracts two numbers\n",
        "def subtract(x, y):\n",
        "    return x - y\n",
        "\n",
        "# This function multiplies two numbers\n",
        "def multiply(x, y):\n",
        "    return x * y\n",
        "\n",
        "# This function divides two numbers\n",
        "def divide(x, y):\n",
        "    return x / y\n",
        "\n",
        "\n",
        "print(\"Select operation.\")\n",
        "print(\"1.Add\")\n",
        "print(\"2.Subtract\")\n",
        "print(\"3.Multiply\")\n",
        "print(\"4.Divide\")\n",
        "\n",
        "while True:\n",
        "    # take input from the user\n",
        "    choice = input(\"Enter choice(1/2/3/4): \")\n",
        "\n",
        "    # check if choice is one of the four options\n",
        "    if choice in ('1', '2', '3', '4'):\n",
        "        try:\n",
        "            num1 = float(input(\"Enter first number: \"))\n",
        "            num2 = float(input(\"Enter second number: \"))\n",
        "        except ValueError:\n",
        "            print(\"Invalid input. Please enter a number.\")\n",
        "            continue\n",
        "\n",
        "        if choice == '1':\n",
        "            print(num1, \"+\", num2, \"=\", add(num1, num2))\n",
        "\n",
        "        elif choice == '2':\n",
        "            print(num1, \"-\", num2, \"=\", subtract(num1, num2))\n",
        "\n",
        "        elif choice == '3':\n",
        "            print(num1, \"*\", num2, \"=\", multiply(num1, num2))\n",
        "\n",
        "        elif choice == '4':\n",
        "            print(num1, \"/\", num2, \"=\", divide(num1, num2))\n",
        "\n",
        "        # check if user wants another calculation\n",
        "        # break the while loop if answer is no\n",
        "        next_calculation = input(\"Let's do next calculation? (yes/no): \")\n",
        "        if next_calculation == \"no\":\n",
        "          break\n",
        "    else:\n",
        "        print(\"Invalid Input\")"
      ]
    },
    {
      "cell_type": "markdown",
      "source": [
        "Tugas Kalkulator Konversi Suhu"
      ],
      "metadata": {
        "id": "NEhWPXsHAk_q"
      }
    },
    {
      "cell_type": "code",
      "source": [
        "def convert_temperature(value, input_scale, output_scale):\n",
        "    if input_scale == 'C':\n",
        "        if output_scale == 'F':\n",
        "            return value * 1.8 + 32\n",
        "        elif output_scale == 'K':\n",
        "            return value + 273.15\n",
        "        else:\n",
        "            return value\n",
        "    elif input_scale == 'F':\n",
        "        if output_scale == 'C':\n",
        "            return (value - 32) / 1.8\n",
        "        elif output_scale == 'K':\n",
        "            return (value + 459.67) * 5 / 9\n",
        "        else:\n",
        "            return value\n",
        "    elif input_scale == 'K':\n",
        "        if output_scale == 'C':\n",
        "            return value - 273.15\n",
        "        elif output_scale == 'F':\n",
        "            return value * 9 / 5 - 459.67\n",
        "        else:\n",
        "            return value\n",
        "    else:\n",
        "        return value\n",
        "\n",
        "while True:\n",
        "    # Prompt the user for input\n",
        "    print('Enter the input temperature value:')\n",
        "    value = float(input())\n",
        "    print('Enter the input temperature scale (C, F, or K):')\n",
        "    input_scale = input().upper()\n",
        "    print('Enter the output temperature scale (C, F, or K):')\n",
        "    output_scale = input().upper()\n",
        "\n",
        "    # Convert the temperature and print the result\n",
        "    result = convert_temperature(value, input_scale, output_scale)\n",
        "    print(f'{value} {input_scale} = {result} {output_scale}')\n",
        "\n",
        "    # Prompt the user to continue or quit\n",
        "    print('Enter q to quit, or any other key to continue:')\n",
        "    choice = input()\n",
        "    if choice.lower() == 'q':\n",
        "        break"
      ],
      "metadata": {
        "id": "qRKVcEVbAqqU"
      },
      "execution_count": null,
      "outputs": []
    }
  ]
}