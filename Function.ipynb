{
  "nbformat": 4,
  "nbformat_minor": 0,
  "metadata": {
    "colab": {
      "provenance": [],
      "authorship_tag": "ABX9TyN0Hd9GTrh0Vvr8uL1VTmsY",
      "include_colab_link": true
    },
    "kernelspec": {
      "name": "python3",
      "display_name": "Python 3"
    },
    "language_info": {
      "name": "python"
    }
  },
  "cells": [
    {
      "cell_type": "markdown",
      "metadata": {
        "id": "view-in-github",
        "colab_type": "text"
      },
      "source": [
        "<a href=\"https://colab.research.google.com/github/happywintern/Tugas-DasarPemrograman/blob/main/Function.ipynb\" target=\"_parent\"><img src=\"https://colab.research.google.com/assets/colab-badge.svg\" alt=\"Open In Colab\"/></a>"
      ]
    },
    {
      "cell_type": "markdown",
      "source": [
        "Nama: Mutiara Rachma Aitika Andewa"
      ],
      "metadata": {
        "id": "GFZGYyK1I3l1"
      }
    },
    {
      "cell_type": "markdown",
      "source": [
        "NIM: J0403231159"
      ],
      "metadata": {
        "id": "xDV91SfZI9AX"
      }
    },
    {
      "cell_type": "markdown",
      "source": [
        "email: mutiaraaitika@gmail.com"
      ],
      "metadata": {
        "id": "mO6Bkq_kI_1c"
      }
    },
    {
      "cell_type": "markdown",
      "source": [
        "How to define a function"
      ],
      "metadata": {
        "id": "atYy18UCJDDr"
      }
    },
    {
      "cell_type": "code",
      "execution_count": 2,
      "metadata": {
        "colab": {
          "base_uri": "https://localhost:8080/"
        },
        "id": "3AGXoVS3I25F",
        "outputId": "47b96ac8-294b-47d0-c5f4-e467e6fb51d3"
      },
      "outputs": [
        {
          "output_type": "stream",
          "name": "stdout",
          "text": [
            "My fun function\n"
          ]
        }
      ],
      "source": [
        "# define function\n",
        "def fun():\n",
        "  print(\"My fun function\")\n",
        "\n",
        "# call function\n",
        "fun()"
      ]
    },
    {
      "cell_type": "markdown",
      "source": [
        "Parameters and Arguments"
      ],
      "metadata": {
        "id": "ZKlnRAeyJTtn"
      }
    },
    {
      "cell_type": "code",
      "source": [
        "# Here a,b are the parameters\n",
        "def sum(a,b):\n",
        "  print(a+b)\n",
        "\n",
        "# Here the values 1,2 are arguments\n",
        "sum(1,2)"
      ],
      "metadata": {
        "colab": {
          "base_uri": "https://localhost:8080/"
        },
        "id": "jCEbmZoUJcXu",
        "outputId": "f08b6f97-fbe8-4512-eb50-e01d51c07686"
      },
      "execution_count": 3,
      "outputs": [
        {
          "output_type": "stream",
          "name": "stdout",
          "text": [
            "3\n"
          ]
        }
      ]
    },
    {
      "cell_type": "markdown",
      "source": [
        "Argument - positional"
      ],
      "metadata": {
        "id": "ZBfyF9zRJYTH"
      }
    },
    {
      "cell_type": "code",
      "source": [
        "def greet(name, greeting):\n",
        "  print(f\"{greeting}, {name}!\")\n",
        "\n",
        "greet(\"Alice\", \"Hello\") # \"Hello, Alice!\""
      ],
      "metadata": {
        "colab": {
          "base_uri": "https://localhost:8080/"
        },
        "id": "u7Gzy9KjJqFk",
        "outputId": "41d6a074-72eb-4d0f-9aea-97dcdc549ccc"
      },
      "execution_count": 5,
      "outputs": [
        {
          "output_type": "stream",
          "name": "stdout",
          "text": [
            "Hello, Alice!\n"
          ]
        }
      ]
    },
    {
      "cell_type": "markdown",
      "source": [
        "Arguments - keyword"
      ],
      "metadata": {
        "id": "NtQl9nE7JyCq"
      }
    },
    {
      "cell_type": "code",
      "source": [
        "def greet(name, greeting):\n",
        "  print(f\"{greeting}, {name}!\")\n",
        "\n",
        "greet(greeting=\"Hi\", name=\"Bob\") # \"Hi, Bob!\""
      ],
      "metadata": {
        "colab": {
          "base_uri": "https://localhost:8080/"
        },
        "id": "9Gy1_OYmJ118",
        "outputId": "0fd33468-811c-4559-c7ea-377c6d4c8f69"
      },
      "execution_count": 7,
      "outputs": [
        {
          "output_type": "stream",
          "name": "stdout",
          "text": [
            "Hi, Bob!\n"
          ]
        }
      ]
    },
    {
      "cell_type": "markdown",
      "source": [
        "Arguments - Default"
      ],
      "metadata": {
        "id": "L0dRgPtSJ8fk"
      }
    },
    {
      "cell_type": "code",
      "source": [
        "def greet(name, greeting=\"Hello\"):\n",
        "  print(f\"{greeting}, {name}!\")\n",
        "\n",
        "greet(\"Eve\") # \"Hello, Eve!\""
      ],
      "metadata": {
        "colab": {
          "base_uri": "https://localhost:8080/"
        },
        "id": "B8yrK07yJ_Pd",
        "outputId": "5a5f45e5-8681-44e2-8e98-1dca82f0a084"
      },
      "execution_count": 8,
      "outputs": [
        {
          "output_type": "stream",
          "name": "stdout",
          "text": [
            "Hello, Eve!\n"
          ]
        }
      ]
    },
    {
      "cell_type": "markdown",
      "source": [
        "Arguments - arbitrary"
      ],
      "metadata": {
        "id": "GrAbO1mfKFKS"
      }
    },
    {
      "cell_type": "code",
      "source": [
        "def print_args(*args):\n",
        "  for arg in args:\n",
        "    print(arg)\n",
        "\n",
        "print_args(1, \"apple\", True) # 1\\n\"apple\"\\nTrue"
      ],
      "metadata": {
        "colab": {
          "base_uri": "https://localhost:8080/"
        },
        "id": "ER6ITvbqKHew",
        "outputId": "a30bc033-117f-4901-fe99-cf65be2c7b5e"
      },
      "execution_count": 9,
      "outputs": [
        {
          "output_type": "stream",
          "name": "stdout",
          "text": [
            "1\n",
            "apple\n",
            "True\n"
          ]
        }
      ]
    },
    {
      "cell_type": "markdown",
      "source": [
        "Arguments - arbitrary (**kwargs)"
      ],
      "metadata": {
        "id": "WwHfr6iMKVPR"
      }
    },
    {
      "cell_type": "code",
      "source": [
        "def print_kwargs(**kwargs):\n",
        "  for key, value in kwargs.items():\n",
        "    print(f\"{key}: {value}\")\n",
        "\n",
        "print_kwargs(name=\"Alice\", age=30) # \"name: Alice\"\\n\"age: 30\""
      ],
      "metadata": {
        "colab": {
          "base_uri": "https://localhost:8080/"
        },
        "id": "1QoQ9HDnKaAR",
        "outputId": "3a024fb9-4a87-4576-ef43-8232c9a4450c"
      },
      "execution_count": 10,
      "outputs": [
        {
          "output_type": "stream",
          "name": "stdout",
          "text": [
            "name: Alice\n",
            "age: 30\n"
          ]
        }
      ]
    },
    {
      "cell_type": "markdown",
      "source": [
        "Arguments - passing lists/dictionary"
      ],
      "metadata": {
        "id": "a_DLBm9WKkD-"
      }
    },
    {
      "cell_type": "code",
      "source": [
        "def print_list(numbers):\n",
        "  for num in numbers:\n",
        "    print(num)\n",
        "\n",
        "print_list([1, 2, 3, 4]) # 1\\n2\\n3\\n4\n",
        "\n",
        "def print_dict(my_dict):\n",
        "  for key, value in my_dict.items():\n",
        "    print(f\"{key}: {value}\")\n",
        "\n",
        "print_dict({\"name\": \"Bob\", \"age\": 25}) # Output: \"name: Bob\"\\n\"age: 25\""
      ],
      "metadata": {
        "colab": {
          "base_uri": "https://localhost:8080/"
        },
        "id": "g1zlUQ3VKnxu",
        "outputId": "49bc58a7-d2a2-4427-c5e5-f2072d222e04"
      },
      "execution_count": 11,
      "outputs": [
        {
          "output_type": "stream",
          "name": "stdout",
          "text": [
            "1\n",
            "2\n",
            "3\n",
            "4\n",
            "name: Bob\n",
            "age: 25\n"
          ]
        }
      ]
    },
    {
      "cell_type": "markdown",
      "source": [
        "Different Argument - combination"
      ],
      "metadata": {
        "id": "ScZFh99wK3gF"
      }
    },
    {
      "cell_type": "code",
      "source": [
        "def f(a, *b, c=6, **d): # compare it with def f(a, b=6, *c, **d)\n",
        "  print(f\"a: {a}\")\n",
        "  print(f\"b: {b}\")\n",
        "  print(f\"c: {c}\")\n",
        "  print(f\"d: {d}\")\n",
        "\n",
        "f(1, 2, 3, x=4, y=5) # Default used\n",
        "f(1, 2, 3, c=7, x=4, y=5) # Override default"
      ],
      "metadata": {
        "colab": {
          "base_uri": "https://localhost:8080/"
        },
        "id": "Arp4yFbvK7iU",
        "outputId": "ecd62769-c122-41b5-e272-a96a4440d10a"
      },
      "execution_count": 12,
      "outputs": [
        {
          "output_type": "stream",
          "name": "stdout",
          "text": [
            "a: 1\n",
            "b: (2, 3)\n",
            "c: 6\n",
            "d: {'x': 4, 'y': 5}\n",
            "a: 1\n",
            "b: (2, 3)\n",
            "c: 7\n",
            "d: {'x': 4, 'y': 5}\n"
          ]
        }
      ]
    },
    {
      "cell_type": "markdown",
      "source": [
        "Return Statement"
      ],
      "metadata": {
        "id": "OI7H1VSJLSpN"
      }
    },
    {
      "cell_type": "code",
      "source": [
        "def add_numbers(a, b):\n",
        "  \"\"\"This function adds two numbers and\n",
        "  returns the result.\"\"\"\n",
        "  result = a + b\n",
        "  return result\n",
        "\n",
        "# Call the function with a return value\n",
        "sum_result = add_numbers(5, 3)\n",
        "print(f\"The sum is: {sum_result}\")"
      ],
      "metadata": {
        "colab": {
          "base_uri": "https://localhost:8080/"
        },
        "id": "W031vrJdLUWz",
        "outputId": "d245b4be-648e-458a-cc01-e93eabac6695"
      },
      "execution_count": 15,
      "outputs": [
        {
          "output_type": "stream",
          "name": "stdout",
          "text": [
            "The sum is: 8\n"
          ]
        }
      ]
    }
  ]
}