{
  "nbformat": 4,
  "nbformat_minor": 0,
  "metadata": {
    "colab": {
      "provenance": [],
      "authorship_tag": "ABX9TyNLFUtZYOnKWCuMOs9g9qtx",
      "include_colab_link": true
    },
    "kernelspec": {
      "name": "python3",
      "display_name": "Python 3"
    },
    "language_info": {
      "name": "python"
    }
  },
  "cells": [
    {
      "cell_type": "markdown",
      "metadata": {
        "id": "view-in-github",
        "colab_type": "text"
      },
      "source": [
        "<a href=\"https://colab.research.google.com/github/happywintern/Tugas-DasarPemrograman/blob/main/Struktur_Data.ipynb\" target=\"_parent\"><img src=\"https://colab.research.google.com/assets/colab-badge.svg\" alt=\"Open In Colab\"/></a>"
      ]
    },
    {
      "cell_type": "markdown",
      "source": [
        "Nama : Mutiara Rachma Aitika Andewa"
      ],
      "metadata": {
        "id": "GyivlcekjOxA"
      }
    },
    {
      "cell_type": "markdown",
      "source": [
        "NIM : J0403231159"
      ],
      "metadata": {
        "id": "x2Ld7L8HjU_8"
      }
    },
    {
      "cell_type": "markdown",
      "source": [
        "Email : mutiaraaitika@gmail.com"
      ],
      "metadata": {
        "id": "R1LHOjR3jgmE"
      }
    },
    {
      "cell_type": "markdown",
      "source": [
        "Struktur Data Python"
      ],
      "metadata": {
        "id": "l1BOkIeLjk2s"
      }
    },
    {
      "cell_type": "markdown",
      "source": [
        "List"
      ],
      "metadata": {
        "id": "EDVgfjyQj4An"
      }
    },
    {
      "cell_type": "code",
      "execution_count": 1,
      "metadata": {
        "colab": {
          "base_uri": "https://localhost:8080/"
        },
        "id": "6Jf0NrXOjLap",
        "outputId": "55ade6bf-f253-45f1-b2b4-010c000a4dc4"
      },
      "outputs": [
        {
          "output_type": "stream",
          "name": "stdout",
          "text": [
            "[1, 2, 3, 4, 3, 5, 6] append, adding an element to the end of the list\n",
            "[1, 2, 3, 4, 3, 5, 6, 7, 8, 9] extend a list\n",
            "[1, 2, 10, 3, 4, 3, 5, 6, 7, 8, 9] Inserts an element at a specified index\n",
            "[1, 2, 10, 4, 3, 5, 6, 7, 8, 9] Removes the first occurrence of an element\n",
            "Popped element: 10\n",
            "[] Removes all elements from the list \n",
            "Index of 3: 2\n",
            "Count of 3: 2\n",
            "[1, 2, 3, 3, 4, 5]\n",
            "[5, 4, 3, 3, 2, 1]\n",
            "[5, 4, 3, 3, 2, 1]\n",
            "Length of the list: 6\n"
          ]
        }
      ],
      "source": [
        "my_list = [1, 2, 3, 4, 3, 5]\n",
        "my_list.append(6)\n",
        "print(my_list, \"append, adding an element to the end of the list\")\n",
        "\n",
        "my_list.extend([7, 8, 9])\n",
        "print(my_list, \"extend a list\")\n",
        "\n",
        "# insert(i, x) - Inserts an element at a specified index\n",
        "my_list.insert(2, 10)\n",
        "print(my_list, \"Inserts an element at a specified index\")\n",
        "\n",
        "# remove(x) - Removes the first occurrence of an element\n",
        "my_list.remove(3)\n",
        "print(my_list, \"Removes the first occurrence of an element\")\n",
        "\n",
        "# pop([i]) - Removes and returns an element (default: last element)\n",
        "popped_element = my_list.pop(2)\n",
        "print(f\"Popped element: {popped_element}\")\n",
        "\n",
        "# clear() - Removes all elements from the list\n",
        "my_list.clear()\n",
        "print(my_list, \"Removes all elements from the list \")\n",
        "\n",
        "# index(x[, start[, end]]) - Returns the index of the first occurrence of an element\n",
        "my_list = [1, 2, 3, 4, 3, 5]\n",
        "index = my_list.index(3)\n",
        "print(f\"Index of 3: {index}\")\n",
        "\n",
        "# count(x) - Returns the number of occurrences of an element\n",
        "count = my_list.count(3)\n",
        "print(f\"Count of 3: {count}\")\n",
        "\n",
        "# sort(key=None, reverse=False) - Sorts the list in ascending order\n",
        "my_list.sort()\n",
        "print(my_list)\n",
        "\n",
        "# reverse() - Reverses the order of elements\n",
        "my_list.reverse()\n",
        "print(my_list)\n",
        "\n",
        "# copy() - Creates a shallow copy of the list\n",
        "copy_of_list = my_list.copy()\n",
        "print(copy_of_list)\n",
        "\n",
        "# len(list) - Returns the number of elements in the list\n",
        "length = len(my_list)\n",
        "print(f\"Length of the list: {length}\")\n"
      ]
    },
    {
      "cell_type": "markdown",
      "source": [
        "Accessing an element from the list"
      ],
      "metadata": {
        "id": "IL5cj0SaNLmS"
      }
    },
    {
      "cell_type": "code",
      "source": [
        "list_1=[1,3,5.6,'a',\"PythonGeeks\",0.4]\n",
        "print(list_1[3]) # accessing the 4th element\n",
        "print(list_1) # accessing the whole list\n",
        "print(list_1[-2]) # printing the last 2nd element\n"
      ],
      "metadata": {
        "colab": {
          "base_uri": "https://localhost:8080/"
        },
        "id": "6P2lqEIBN0ZQ",
        "outputId": "f44c3d5e-5ec7-4025-8398-a85f68987dc2"
      },
      "execution_count": 4,
      "outputs": [
        {
          "output_type": "stream",
          "name": "stdout",
          "text": [
            "a\n",
            "[1, 3, 5.6, 'a', 'PythonGeeks', 0.4]\n",
            "PythonGeeks\n"
          ]
        }
      ]
    },
    {
      "cell_type": "markdown",
      "source": [
        "Slicing the list"
      ],
      "metadata": {
        "id": "WGpgLrMqN3oY"
      }
    },
    {
      "cell_type": "code",
      "source": [
        "list_1=[1,3,5.6,'a',\"PythonGeeks\",0.4]\n",
        "print(\"list_1[2:5] =\",list_1[2:5]) # slicing 3rd to 5th element\n",
        "print(\"list_1[:] =\",list_1[:]) # getting entire list\n",
        "print(\"list_1[-5:-2] =\",list_1[-5:-2]) # slicing last 5th to 3rd element\n",
        "print(\"list_1[3:] =\",list_1[3:]) # slicing all elements after 3rd one\n",
        "print(\"list_1[-3:] =\",list_1[-3:]) # slicing all elements after last 3rd one\n",
        "print(\"list_1[:2] =\",list_1[:2]) # slicing all elements till 2nd one\n",
        "print(\"list_1[:-2] =\",list_1[:-2])# slicing all elements till last 2nd one\n"
      ],
      "metadata": {
        "colab": {
          "base_uri": "https://localhost:8080/"
        },
        "id": "An9-MovnN62M",
        "outputId": "e7928fad-29fc-47c9-d34f-f62278094978"
      },
      "execution_count": 5,
      "outputs": [
        {
          "output_type": "stream",
          "name": "stdout",
          "text": [
            "list_1[2:5] = [5.6, 'a', 'PythonGeeks']\n",
            "list_1[:] = [1, 3, 5.6, 'a', 'PythonGeeks', 0.4]\n",
            "list_1[-5:-2] = [3, 5.6, 'a']\n",
            "list_1[3:] = ['a', 'PythonGeeks', 0.4]\n",
            "list_1[-3:] = ['a', 'PythonGeeks', 0.4]\n",
            "list_1[:2] = [1, 3]\n",
            "list_1[:-2] = [1, 3, 5.6, 'a']\n"
          ]
        }
      ]
    },
    {
      "cell_type": "markdown",
      "source": [
        "Modifying and Delete"
      ],
      "metadata": {
        "id": "AMhnXpDiN_mf"
      }
    },
    {
      "cell_type": "code",
      "source": [
        "my_list = [1, 2, 3, 4, 5]\n",
        "\n",
        "# Modify an element using indexing\n",
        "my_list[2] = 10\n",
        "print(\"After modifying using indexing:\", my_list)  # Output: [1, 2, 10, 4, 5]\n",
        "\n",
        "# Modify a range of elements using slicing\n",
        "my_list[1:4] = [20, 30, 40]\n",
        "print(\"After modifying using slicing:\", my_list)  # Output: [1, 20, 30, 40, 5]\n",
        "\n",
        "# Delete an element using indexing\n",
        "del my_list[2]\n",
        "print(\"After deleting using indexing:\", my_list)  # Output: [1, 20, 40, 5]\n",
        "\n",
        "# Delete a range of elements using slicing\n",
        "my_list[1:4] = []\n",
        "print(\"After deleting using slicing:\", my_list)  # Output: [1, 5]\n",
        "\n",
        "# Delete the entire list\n",
        "del my_list\n"
      ],
      "metadata": {
        "colab": {
          "base_uri": "https://localhost:8080/"
        },
        "id": "FROmp_5vOC8a",
        "outputId": "a594fffa-a560-4490-dbff-94cbedbfc0b3"
      },
      "execution_count": 6,
      "outputs": [
        {
          "output_type": "stream",
          "name": "stdout",
          "text": [
            "After modifying using indexing: [1, 2, 10, 4, 5]\n",
            "After modifying using slicing: [1, 20, 30, 40, 5]\n",
            "After deleting using indexing: [1, 20, 40, 5]\n",
            "After deleting using slicing: [1]\n"
          ]
        }
      ]
    },
    {
      "cell_type": "markdown",
      "source": [
        "loop through a list"
      ],
      "metadata": {
        "id": "5v7zY_e9ONwa"
      }
    },
    {
      "cell_type": "code",
      "source": [
        "my_list = [1, 2, 3, 4, 5]\n",
        "\n",
        "# Method 1: Loop through the list and print each element\n",
        "for item in my_list:\n",
        "    print(item)\n",
        "\n",
        "# Method 2: Loop through the list with index using enumerate()\n",
        "for index, item in enumerate(my_list):\n",
        "    print(f\"Index {index}: {item}\")\n",
        "\n",
        "# Method 3: Loop through the list in reverse order\n",
        "for item in reversed(my_list):\n",
        "    print(item)"
      ],
      "metadata": {
        "colab": {
          "base_uri": "https://localhost:8080/"
        },
        "id": "dyAU-8RXOPVU",
        "outputId": "8c212f02-3a89-4c3f-9ef7-96374fae9d90"
      },
      "execution_count": 7,
      "outputs": [
        {
          "output_type": "stream",
          "name": "stdout",
          "text": [
            "1\n",
            "2\n",
            "3\n",
            "4\n",
            "5\n",
            "Index 0: 1\n",
            "Index 1: 2\n",
            "Index 2: 3\n",
            "Index 3: 4\n",
            "Index 4: 5\n",
            "5\n",
            "4\n",
            "3\n",
            "2\n",
            "1\n"
          ]
        }
      ]
    }
  ]
}